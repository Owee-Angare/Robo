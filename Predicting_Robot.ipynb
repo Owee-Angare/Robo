{
  "nbformat": 4,
  "nbformat_minor": 0,
  "metadata": {
    "colab": {
      "name": "Predicting_Robot.ipynb",
      "provenance": [],
      "authorship_tag": "ABX9TyNcqtC+Vsuv3iHBpQnEx459",
      "include_colab_link": true
    },
    "kernelspec": {
      "name": "python3",
      "display_name": "Python 3"
    }
  },
  "cells": [
    {
      "cell_type": "markdown",
      "metadata": {
        "id": "view-in-github",
        "colab_type": "text"
      },
      "source": [
        "<a href=\"https://colab.research.google.com/github/Owee-Angare/Robo/blob/master/Predicting_Robot.ipynb\" target=\"_parent\"><img src=\"https://colab.research.google.com/assets/colab-badge.svg\" alt=\"Open In Colab\"/></a>"
      ]
    },
    {
      "cell_type": "code",
      "metadata": {
        "id": "N2yB8mJL9q0Y",
        "colab_type": "code",
        "colab": {
          "base_uri": "https://localhost:8080/",
          "height": 419
        },
        "outputId": "146940a0-ab29-4123-c108-bdd692db9754"
      },
      "source": [
        "import tensorflow as tf \n",
        "import tensorflow.keras as keras \n",
        "import numpy as np \n",
        "import pandas as pd\n",
        "df=pd.read_csv('RobotConversationcsv.csv')  \n",
        "df "
      ],
      "execution_count": 2,
      "outputs": [
        {
          "output_type": "execute_result",
          "data": {
            "text/html": [
              "<div>\n",
              "<style scoped>\n",
              "    .dataframe tbody tr th:only-of-type {\n",
              "        vertical-align: middle;\n",
              "    }\n",
              "\n",
              "    .dataframe tbody tr th {\n",
              "        vertical-align: top;\n",
              "    }\n",
              "\n",
              "    .dataframe thead th {\n",
              "        text-align: right;\n",
              "    }\n",
              "</style>\n",
              "<table border=\"1\" class=\"dataframe\">\n",
              "  <thead>\n",
              "    <tr style=\"text-align: right;\">\n",
              "      <th></th>\n",
              "      <th>num1</th>\n",
              "      <th>num2</th>\n",
              "      <th>num3</th>\n",
              "      <th>num4</th>\n",
              "      <th>num5</th>\n",
              "      <th>num6</th>\n",
              "      <th>num7</th>\n",
              "      <th>num8</th>\n",
              "      <th>num9</th>\n",
              "      <th>num10</th>\n",
              "      <th>source</th>\n",
              "    </tr>\n",
              "  </thead>\n",
              "  <tbody>\n",
              "    <tr>\n",
              "      <th>0</th>\n",
              "      <td>2</td>\n",
              "      <td>5</td>\n",
              "      <td>2</td>\n",
              "      <td>5</td>\n",
              "      <td>6</td>\n",
              "      <td>2</td>\n",
              "      <td>1</td>\n",
              "      <td>8</td>\n",
              "      <td>1</td>\n",
              "      <td>3</td>\n",
              "      <td>0</td>\n",
              "    </tr>\n",
              "    <tr>\n",
              "      <th>1</th>\n",
              "      <td>4</td>\n",
              "      <td>9</td>\n",
              "      <td>5</td>\n",
              "      <td>4</td>\n",
              "      <td>8</td>\n",
              "      <td>6</td>\n",
              "      <td>6</td>\n",
              "      <td>7</td>\n",
              "      <td>7</td>\n",
              "      <td>2</td>\n",
              "      <td>0</td>\n",
              "    </tr>\n",
              "    <tr>\n",
              "      <th>2</th>\n",
              "      <td>1</td>\n",
              "      <td>6</td>\n",
              "      <td>5</td>\n",
              "      <td>8</td>\n",
              "      <td>8</td>\n",
              "      <td>8</td>\n",
              "      <td>2</td>\n",
              "      <td>6</td>\n",
              "      <td>9</td>\n",
              "      <td>6</td>\n",
              "      <td>0</td>\n",
              "    </tr>\n",
              "    <tr>\n",
              "      <th>3</th>\n",
              "      <td>7</td>\n",
              "      <td>5</td>\n",
              "      <td>3</td>\n",
              "      <td>3</td>\n",
              "      <td>8</td>\n",
              "      <td>9</td>\n",
              "      <td>8</td>\n",
              "      <td>6</td>\n",
              "      <td>7</td>\n",
              "      <td>2</td>\n",
              "      <td>0</td>\n",
              "    </tr>\n",
              "    <tr>\n",
              "      <th>4</th>\n",
              "      <td>3</td>\n",
              "      <td>7</td>\n",
              "      <td>9</td>\n",
              "      <td>2</td>\n",
              "      <td>5</td>\n",
              "      <td>8</td>\n",
              "      <td>8</td>\n",
              "      <td>7</td>\n",
              "      <td>5</td>\n",
              "      <td>4</td>\n",
              "      <td>0</td>\n",
              "    </tr>\n",
              "    <tr>\n",
              "      <th>...</th>\n",
              "      <td>...</td>\n",
              "      <td>...</td>\n",
              "      <td>...</td>\n",
              "      <td>...</td>\n",
              "      <td>...</td>\n",
              "      <td>...</td>\n",
              "      <td>...</td>\n",
              "      <td>...</td>\n",
              "      <td>...</td>\n",
              "      <td>...</td>\n",
              "      <td>...</td>\n",
              "    </tr>\n",
              "    <tr>\n",
              "      <th>199994</th>\n",
              "      <td>6994</td>\n",
              "      <td>7003</td>\n",
              "      <td>7006</td>\n",
              "      <td>7010</td>\n",
              "      <td>7013</td>\n",
              "      <td>7014</td>\n",
              "      <td>7019</td>\n",
              "      <td>7026</td>\n",
              "      <td>7030</td>\n",
              "      <td>7038</td>\n",
              "      <td>1</td>\n",
              "    </tr>\n",
              "    <tr>\n",
              "      <th>199995</th>\n",
              "      <td>2495</td>\n",
              "      <td>2503</td>\n",
              "      <td>2509</td>\n",
              "      <td>2512</td>\n",
              "      <td>2513</td>\n",
              "      <td>2517</td>\n",
              "      <td>2521</td>\n",
              "      <td>2526</td>\n",
              "      <td>2528</td>\n",
              "      <td>2533</td>\n",
              "      <td>1</td>\n",
              "    </tr>\n",
              "    <tr>\n",
              "      <th>199996</th>\n",
              "      <td>7353</td>\n",
              "      <td>7357</td>\n",
              "      <td>7364</td>\n",
              "      <td>7366</td>\n",
              "      <td>7374</td>\n",
              "      <td>7380</td>\n",
              "      <td>7382</td>\n",
              "      <td>7384</td>\n",
              "      <td>7388</td>\n",
              "      <td>7391</td>\n",
              "      <td>1</td>\n",
              "    </tr>\n",
              "    <tr>\n",
              "      <th>199997</th>\n",
              "      <td>8905</td>\n",
              "      <td>8911</td>\n",
              "      <td>8913</td>\n",
              "      <td>8920</td>\n",
              "      <td>8924</td>\n",
              "      <td>8925</td>\n",
              "      <td>8928</td>\n",
              "      <td>8936</td>\n",
              "      <td>8943</td>\n",
              "      <td>8947</td>\n",
              "      <td>1</td>\n",
              "    </tr>\n",
              "    <tr>\n",
              "      <th>199998</th>\n",
              "      <td>4882</td>\n",
              "      <td>4886</td>\n",
              "      <td>4888</td>\n",
              "      <td>4896</td>\n",
              "      <td>4902</td>\n",
              "      <td>4903</td>\n",
              "      <td>4907</td>\n",
              "      <td>4912</td>\n",
              "      <td>4920</td>\n",
              "      <td>4924</td>\n",
              "      <td>1</td>\n",
              "    </tr>\n",
              "  </tbody>\n",
              "</table>\n",
              "<p>199999 rows × 11 columns</p>\n",
              "</div>"
            ],
            "text/plain": [
              "        num1  num2  num3  num4  num5  num6  num7  num8  num9  num10  source\n",
              "0          2     5     2     5     6     2     1     8     1      3       0\n",
              "1          4     9     5     4     8     6     6     7     7      2       0\n",
              "2          1     6     5     8     8     8     2     6     9      6       0\n",
              "3          7     5     3     3     8     9     8     6     7      2       0\n",
              "4          3     7     9     2     5     8     8     7     5      4       0\n",
              "...      ...   ...   ...   ...   ...   ...   ...   ...   ...    ...     ...\n",
              "199994  6994  7003  7006  7010  7013  7014  7019  7026  7030   7038       1\n",
              "199995  2495  2503  2509  2512  2513  2517  2521  2526  2528   2533       1\n",
              "199996  7353  7357  7364  7366  7374  7380  7382  7384  7388   7391       1\n",
              "199997  8905  8911  8913  8920  8924  8925  8928  8936  8943   8947       1\n",
              "199998  4882  4886  4888  4896  4902  4903  4907  4912  4920   4924       1\n",
              "\n",
              "[199999 rows x 11 columns]"
            ]
          },
          "metadata": {
            "tags": []
          },
          "execution_count": 2
        }
      ]
    },
    {
      "cell_type": "code",
      "metadata": {
        "id": "1ZaSYmak-Bxb",
        "colab_type": "code",
        "colab": {
          "base_uri": "https://localhost:8080/",
          "height": 34
        },
        "outputId": "84a93b21-0296-4562-883b-012584467625"
      },
      "source": [
        "#Input and Output \n",
        "x=df.iloc[:,0:10].values\n",
        "y=df.iloc[:,10].values \n",
        "y "
      ],
      "execution_count": 3,
      "outputs": [
        {
          "output_type": "execute_result",
          "data": {
            "text/plain": [
              "array([0, 0, 0, ..., 1, 1, 1])"
            ]
          },
          "metadata": {
            "tags": []
          },
          "execution_count": 3
        }
      ]
    },
    {
      "cell_type": "code",
      "metadata": {
        "id": "M8XtJ1hY_HEd",
        "colab_type": "code",
        "colab": {}
      },
      "source": [
        "#Defining Keras model with 2 hidden layers and 1 outut layer\n",
        "model=tf.keras.Sequential()\n",
        "model.add(keras.layers.Dense(12,input_dim=10,activation='relu'))\n",
        "model.add(keras.layers.Dense(8,activation='relu'))\n",
        "model.add(keras.layers.Dense(1,activation='sigmoid')) "
      ],
      "execution_count": 4,
      "outputs": []
    },
    {
      "cell_type": "code",
      "metadata": {
        "id": "0h2E-3aY_MhK",
        "colab_type": "code",
        "colab": {}
      },
      "source": [
        "model.compile(optimizer='adam',loss='binary_crossentropy',metrics=['accuracy']) "
      ],
      "execution_count": 5,
      "outputs": []
    },
    {
      "cell_type": "code",
      "metadata": {
        "id": "TEkKeK56_T7K",
        "colab_type": "code",
        "colab": {
          "base_uri": "https://localhost:8080/",
          "height": 1000
        },
        "outputId": "2f7e892f-9294-43f0-b545-2b2f2a89ad2c"
      },
      "source": [
        "model.fit(x,y,epochs=50) "
      ],
      "execution_count": 6,
      "outputs": [
        {
          "output_type": "stream",
          "text": [
            "Epoch 1/50\n",
            "6250/6250 [==============================] - 9s 1ms/step - loss: 0.0188 - accuracy: 0.9947\n",
            "Epoch 2/50\n",
            "6250/6250 [==============================] - 9s 1ms/step - loss: 7.1490e-05 - accuracy: 1.0000\n",
            "Epoch 3/50\n",
            "6250/6250 [==============================] - 9s 1ms/step - loss: 9.1058e-06 - accuracy: 1.0000\n",
            "Epoch 4/50\n",
            "6250/6250 [==============================] - 9s 1ms/step - loss: 0.0056 - accuracy: 0.9999\n",
            "Epoch 5/50\n",
            "6250/6250 [==============================] - 9s 1ms/step - loss: 1.8825e-06 - accuracy: 1.0000\n",
            "Epoch 6/50\n",
            "6250/6250 [==============================] - 9s 1ms/step - loss: 4.6428e-07 - accuracy: 1.0000\n",
            "Epoch 7/50\n",
            "6250/6250 [==============================] - 9s 1ms/step - loss: 2.9114e-08 - accuracy: 1.0000\n",
            "Epoch 8/50\n",
            "6250/6250 [==============================] - 9s 1ms/step - loss: 6.8622e-09 - accuracy: 1.0000\n",
            "Epoch 9/50\n",
            "6250/6250 [==============================] - 9s 1ms/step - loss: 1.8973e-08 - accuracy: 1.0000\n",
            "Epoch 10/50\n",
            "6250/6250 [==============================] - 9s 1ms/step - loss: 1.4816e-09 - accuracy: 1.0000\n",
            "Epoch 11/50\n",
            "6250/6250 [==============================] - 9s 1ms/step - loss: 1.4420e-11 - accuracy: 1.0000\n",
            "Epoch 12/50\n",
            "6250/6250 [==============================] - 9s 1ms/step - loss: 3.8147e-12 - accuracy: 1.0000\n",
            "Epoch 13/50\n",
            "6250/6250 [==============================] - 9s 1ms/step - loss: 3.4945e-12 - accuracy: 1.0000\n",
            "Epoch 14/50\n",
            "6250/6250 [==============================] - 9s 1ms/step - loss: 2.1719e-12 - accuracy: 1.0000\n",
            "Epoch 15/50\n",
            "6250/6250 [==============================] - 9s 1ms/step - loss: 1.7309e-12 - accuracy: 1.0000\n",
            "Epoch 16/50\n",
            "6250/6250 [==============================] - 9s 1ms/step - loss: 1.4789e-12 - accuracy: 1.0000\n",
            "Epoch 17/50\n",
            "6250/6250 [==============================] - 9s 1ms/step - loss: 1.2867e-12 - accuracy: 1.0000\n",
            "Epoch 18/50\n",
            "6250/6250 [==============================] - 9s 1ms/step - loss: 1.0987e-12 - accuracy: 1.0000\n",
            "Epoch 19/50\n",
            "6250/6250 [==============================] - 9s 1ms/step - loss: 1.1076e-12 - accuracy: 1.0000\n",
            "Epoch 20/50\n",
            "6250/6250 [==============================] - 9s 1ms/step - loss: 1.0221e-12 - accuracy: 1.0000\n",
            "Epoch 21/50\n",
            "6250/6250 [==============================] - 9s 1ms/step - loss: 9.0925e-13 - accuracy: 1.0000\n",
            "Epoch 22/50\n",
            "6250/6250 [==============================] - 9s 1ms/step - loss: 1.0786e-12 - accuracy: 1.0000\n",
            "Epoch 23/50\n",
            "6250/6250 [==============================] - 9s 1ms/step - loss: 8.9306e-13 - accuracy: 1.0000\n",
            "Epoch 24/50\n",
            "6250/6250 [==============================] - 9s 1ms/step - loss: 8.7842e-13 - accuracy: 1.0000\n",
            "Epoch 25/50\n",
            "6250/6250 [==============================] - 9s 1ms/step - loss: 8.9712e-13 - accuracy: 1.0000\n",
            "Epoch 26/50\n",
            "6250/6250 [==============================] - 9s 1ms/step - loss: 1.0683e-12 - accuracy: 1.0000\n",
            "Epoch 27/50\n",
            "6250/6250 [==============================] - 9s 1ms/step - loss: 8.1842e-13 - accuracy: 1.0000\n",
            "Epoch 28/50\n",
            "6250/6250 [==============================] - 9s 1ms/step - loss: 8.3726e-13 - accuracy: 1.0000\n",
            "Epoch 29/50\n",
            "6250/6250 [==============================] - 9s 2ms/step - loss: 8.8683e-13 - accuracy: 1.0000\n",
            "Epoch 30/50\n",
            "6250/6250 [==============================] - 9s 1ms/step - loss: 7.6951e-13 - accuracy: 1.0000\n",
            "Epoch 31/50\n",
            "6250/6250 [==============================] - 9s 1ms/step - loss: 8.2170e-13 - accuracy: 1.0000\n",
            "Epoch 32/50\n",
            "6250/6250 [==============================] - 9s 1ms/step - loss: 9.8060e-13 - accuracy: 1.0000\n",
            "Epoch 33/50\n",
            "6250/6250 [==============================] - 9s 1ms/step - loss: 6.6411e-13 - accuracy: 1.0000\n",
            "Epoch 34/50\n",
            "6250/6250 [==============================] - 9s 1ms/step - loss: 7.3944e-13 - accuracy: 1.0000\n",
            "Epoch 35/50\n",
            "6250/6250 [==============================] - 9s 1ms/step - loss: 7.4690e-13 - accuracy: 1.0000\n",
            "Epoch 36/50\n",
            "6250/6250 [==============================] - 9s 1ms/step - loss: 9.4930e-13 - accuracy: 1.0000\n",
            "Epoch 37/50\n",
            "6250/6250 [==============================] - 9s 1ms/step - loss: 6.4344e-13 - accuracy: 1.0000\n",
            "Epoch 38/50\n",
            "6250/6250 [==============================] - 9s 1ms/step - loss: 6.5260e-13 - accuracy: 1.0000\n",
            "Epoch 39/50\n",
            "6250/6250 [==============================] - 9s 1ms/step - loss: 6.9877e-13 - accuracy: 1.0000\n",
            "Epoch 40/50\n",
            "6250/6250 [==============================] - 9s 1ms/step - loss: 7.6789e-13 - accuracy: 1.0000\n",
            "Epoch 41/50\n",
            "6250/6250 [==============================] - 9s 1ms/step - loss: 6.0279e-13 - accuracy: 1.0000\n",
            "Epoch 42/50\n",
            "6250/6250 [==============================] - 9s 1ms/step - loss: 5.9564e-13 - accuracy: 1.0000\n",
            "Epoch 43/50\n",
            "6250/6250 [==============================] - 9s 1ms/step - loss: 6.1323e-13 - accuracy: 1.0000\n",
            "Epoch 44/50\n",
            "6250/6250 [==============================] - 9s 1ms/step - loss: 6.4148e-13 - accuracy: 1.0000\n",
            "Epoch 45/50\n",
            "6250/6250 [==============================] - 9s 1ms/step - loss: 7.0194e-13 - accuracy: 1.0000\n",
            "Epoch 46/50\n",
            "6250/6250 [==============================] - 8s 1ms/step - loss: 7.6202e-13 - accuracy: 1.0000\n",
            "Epoch 47/50\n",
            "6250/6250 [==============================] - 9s 1ms/step - loss: 9.8074e-13 - accuracy: 1.0000\n",
            "Epoch 48/50\n",
            "6250/6250 [==============================] - 8s 1ms/step - loss: 5.4471e-13 - accuracy: 1.0000\n",
            "Epoch 49/50\n",
            "6250/6250 [==============================] - 8s 1ms/step - loss: 5.4832e-13 - accuracy: 1.0000\n",
            "Epoch 50/50\n",
            "6250/6250 [==============================] - 8s 1ms/step - loss: 5.6090e-13 - accuracy: 1.0000\n"
          ],
          "name": "stdout"
        },
        {
          "output_type": "execute_result",
          "data": {
            "text/plain": [
              "<tensorflow.python.keras.callbacks.History at 0x7f585af973c8>"
            ]
          },
          "metadata": {
            "tags": []
          },
          "execution_count": 6
        }
      ]
    },
    {
      "cell_type": "code",
      "metadata": {
        "id": "ENyWemBd_aEz",
        "colab_type": "code",
        "colab": {
          "base_uri": "https://localhost:8080/",
          "height": 207
        },
        "outputId": "b64dd832-fc31-45dc-8aa4-72265edf8997"
      },
      "source": [
        "predictions=model.predict_classes(x)\n",
        "predictions  "
      ],
      "execution_count": 7,
      "outputs": [
        {
          "output_type": "stream",
          "text": [
            "WARNING:tensorflow:From <ipython-input-7-8009203c23cd>:1: Sequential.predict_classes (from tensorflow.python.keras.engine.sequential) is deprecated and will be removed after 2021-01-01.\n",
            "Instructions for updating:\n",
            "Please use instead:* `np.argmax(model.predict(x), axis=-1)`,   if your model does multi-class classification   (e.g. if it uses a `softmax` last-layer activation).* `(model.predict(x) > 0.5).astype(\"int32\")`,   if your model does binary classification   (e.g. if it uses a `sigmoid` last-layer activation).\n"
          ],
          "name": "stdout"
        },
        {
          "output_type": "execute_result",
          "data": {
            "text/plain": [
              "array([[0],\n",
              "       [0],\n",
              "       [0],\n",
              "       ...,\n",
              "       [1],\n",
              "       [1],\n",
              "       [1]], dtype=int32)"
            ]
          },
          "metadata": {
            "tags": []
          },
          "execution_count": 7
        }
      ]
    },
    {
      "cell_type": "code",
      "metadata": {
        "id": "W0J7eVp2BJof",
        "colab_type": "code",
        "colab": {
          "base_uri": "https://localhost:8080/",
          "height": 51
        },
        "outputId": "4d2f8c7f-1fda-4079-a23c-fa2e60b8eba3"
      },
      "source": [
        "from sklearn.metrics import confusion_matrix \n",
        "confusion_matrix (y,predictions)   "
      ],
      "execution_count": 9,
      "outputs": [
        {
          "output_type": "execute_result",
          "data": {
            "text/plain": [
              "array([[100000,      0],\n",
              "       [     0,  99999]])"
            ]
          },
          "metadata": {
            "tags": []
          },
          "execution_count": 9
        }
      ]
    },
    {
      "cell_type": "code",
      "metadata": {
        "id": "Qvkk4wb1Bl9C",
        "colab_type": "code",
        "colab": {}
      },
      "source": [
        ""
      ],
      "execution_count": null,
      "outputs": []
    }
  ]
}